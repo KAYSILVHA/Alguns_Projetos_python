{
  "nbformat": 4,
  "nbformat_minor": 0,
  "metadata": {
    "colab": {
      "provenance": [],
      "include_colab_link": true
    },
    "kernelspec": {
      "name": "python3",
      "display_name": "Python 3"
    },
    "language_info": {
      "name": "python"
    }
  },
  "cells": [
    {
      "cell_type": "markdown",
      "metadata": {
        "id": "view-in-github",
        "colab_type": "text"
      },
      "source": [
        "<a href=\"https://colab.research.google.com/github/KAYSILVHA/Alguns_Projetos_python/blob/main/C%C3%B3pia_de_WoMakersCode_Bootcamp_Data_Analytics.ipynb\" target=\"_parent\"><img src=\"https://colab.research.google.com/assets/colab-badge.svg\" alt=\"Open In Colab\"/></a>"
      ]
    },
    {
      "cell_type": "markdown",
      "source": [
        "DESAFIO 1\n",
        "\n",
        "Crie um programa que solicita ao usuário que insira três notas (valores de 0 a 10) e, em seguida, calcule e exiba a média dessas notas.\n",
        "\n",
        "Além disso, informe ao usuário se ele foi aprovado ou reprovado com base na média das notas, considerando a média mínima de aprovação como 6."
      ],
      "metadata": {
        "id": "sdBUCCdzeef3"
      }
    },
    {
      "cell_type": "code",
      "source": [
        "primeiraNota = float(input('Digite a primeira nota entre 0 e 10: '))\n",
        "segundaNota = float(input('Digite a segunda nota entre 0 e 10: '))\n",
        "terceiraNota = float(input('Digite a terceira nota entre 0 e 10: '))\n",
        "\n",
        "media = (primeiraNota + segundaNota + terceiraNota) / 3\n",
        "print(\"A média das notas é:\", media)\n",
        "\n",
        "if media < 6:\n",
        "    print(\"Sua média final foi \" + str(media) + \". Infelizmente você foi REPROVADO!\")\n",
        "else:\n",
        "    print(\"Sua média final foi \" + str(media) + \". Parabéns você foi APROVADO!\")"
      ],
      "metadata": {
        "id": "j16D0tJ4evJ-",
        "colab": {
          "base_uri": "https://localhost:8080/"
        },
        "outputId": "a403198f-19c6-495c-9ae0-ac52be0755d0"
      },
      "execution_count": 4,
      "outputs": [
        {
          "output_type": "stream",
          "name": "stdout",
          "text": [
            "Digite a primeira nota entre 0 e 10: 10\n",
            "Digite a segunda nota entre 0 e 10: 6\n",
            "Digite a terceira nota entre 0 e 10: 5\n",
            "A média das notas é: 7.0\n",
            "Sua média final foi 7.0. Parabéns você foi APROVADO!\n"
          ]
        }
      ]
    },
    {
      "cell_type": "markdown",
      "source": [
        "DESAFIO 2\n",
        "\n",
        "Crie um programa que solicita ao usuário que insira um número inteiro e, em seguida, verifica se o número é par ou ímpar.\n",
        "\n",
        "O programa deve exibir uma mensagem indicando se o número é par ou ímpar."
      ],
      "metadata": {
        "id": "ClKDF5t4gEyu"
      }
    },
    {
      "cell_type": "code",
      "source": [
        "numeroInterio = int(input('Digite um número Inteiro: '))\n",
        "\n",
        "if (numeroInterio %2 == 0):\n",
        "    print(\"Número Par\")\n",
        "else:\n",
        "    print(\"Número Ímpar\")"
      ],
      "metadata": {
        "id": "GWkFk92kfuiO",
        "colab": {
          "base_uri": "https://localhost:8080/"
        },
        "outputId": "af448080-9006-49bb-b5bf-1348559959cb"
      },
      "execution_count": 6,
      "outputs": [
        {
          "output_type": "stream",
          "name": "stdout",
          "text": [
            "Digite um número Inteiro: 65\n",
            "Número Ímpar\n"
          ]
        }
      ]
    },
    {
      "cell_type": "markdown",
      "source": [
        "DESAFIO 3\n",
        "\n",
        "Crie um programa que verifica se uma palavra fornecida pelo usuário é um palíndromo ou não.\n",
        "\n",
        "(Um palíndromo é uma palavra que é lida da mesma forma tanto da esquerda para a direita quanto da direita para a esquerda.)"
      ],
      "metadata": {
        "id": "MmsZIAj-e0NX"
      }
    },
    {
      "cell_type": "code",
      "source": [
        "palavra = input(\"Digite uma palavra para verificar se é um palíndromo: \")\n",
        "\n",
        "palavra = palavra.replace(\" \", \"\").lower()\n",
        "\n",
        "if palavra == palavra[::-1]:\n",
        "    print(f\"A palavra '{palavra}' é um palíndromo.\")\n",
        "else:\n",
        "    print(f\"A palavra '{palavra}' não é um palíndromo.\")"
      ],
      "metadata": {
        "id": "PobFqQqafLNj",
        "colab": {
          "base_uri": "https://localhost:8080/"
        },
        "outputId": "6a7017ec-ccd1-4e35-9c6b-b88cc4caa08f"
      },
      "execution_count": 8,
      "outputs": [
        {
          "output_type": "stream",
          "name": "stdout",
          "text": [
            "Digite uma palavra para verificar se é um palíndromo: xicara\n",
            "A palavra 'xicara' não é um palíndromo.\n"
          ]
        }
      ]
    },
    {
      "cell_type": "markdown",
      "source": [
        "DESAFIO 4\n",
        "\n",
        "Crie um programa que solicita ao usuário que insira um número inteiro positivo e, em seguida, calcula e exibe o fatorial desse número.\n",
        "\n",
        "(O fatorial de um número é o produto de todos os números inteiros positivos de 1 até o próprio número.)"
      ],
      "metadata": {
        "id": "9WPRqUfIgLQK"
      }
    },
    {
      "cell_type": "code",
      "source": [
        "numero = int(input(\"Digite um número inteiro positivo: \"))\n",
        "\n",
        "if numero < 0:\n",
        "    print(\"Erro: O número deve ser positivo.\")\n",
        "else:\n",
        "    fatorial = 1\n",
        "    for i in range(1, numero + 1):\n",
        "        fatorial *= i\n",
        "    print(f\"O fatorial de {numero} é {fatorial}.\")"
      ],
      "metadata": {
        "id": "B3VE36bRgJWu",
        "colab": {
          "base_uri": "https://localhost:8080/"
        },
        "outputId": "5d0c628d-78b5-4bb6-be7a-50f1f63e77ce"
      },
      "execution_count": 9,
      "outputs": [
        {
          "output_type": "stream",
          "name": "stdout",
          "text": [
            "Digite um número inteiro positivo: 5\n",
            "O fatorial de 5 é 120.\n"
          ]
        }
      ]
    },
    {
      "cell_type": "markdown",
      "source": [
        "DESAFIO 5\n",
        "\n",
        "Crie um programa que permita ao usuário gerenciar suas tarefas diárias. O programa deve oferecer as seguintes funcionalidades:\n",
        "\n",
        "*   Adicionar uma nova tarefa;\n",
        "*   Visualizar todas as tarefas;\n",
        "*   Marcar uma tarefa como concluída;\n",
        "*   Remover uma tarefa;\n",
        "*   Sair do programa.\n",
        "\n",
        "(Você pode implementar essas funcionalidades usando listas para armazenar as tarefas e estruturas de controle como loops e condicionais para interagir com o usuário.)"
      ],
      "metadata": {
        "id": "dLmeFEi2fO9f"
      }
    },
    {
      "cell_type": "code",
      "source": [
        "tarefas = []\n",
        "\n",
        "while True:\n",
        "    print(\"\\nGerenciador de Tarefas\")\n",
        "    print(\"1. Adicionar Tarefa\")\n",
        "    print(\"2. Visualizar Tarefas\")\n",
        "    print(\"3. Marcar Tarefa Concluída\")\n",
        "    print(\"4. Remover Tarefa\")\n",
        "    print(\"5. Sair\")\n",
        "\n",
        "    opcao = input(\"Escolha uma opção: \")\n",
        "\n",
        "    if opcao == \"1\":\n",
        "        tarefa = input(\"Digite a nova tarefa: \")\n",
        "        tarefas.append(tarefa)\n",
        "        print(\"Tarefa adicionada com sucesso.\")\n",
        "    elif opcao == \"2\":\n",
        "        if tarefas:\n",
        "            print(\"Tarefas:\")\n",
        "            for index, tarefa in enumerate(tarefas, 1):\n",
        "                print(f\"{index}. {tarefa}\")\n",
        "        else:\n",
        "            print(\"Não há tarefas para exibir.\")\n",
        "    elif opcao == \"3\":\n",
        "        if tarefas:\n",
        "            numero_tarefa = int(input(\"Digite o número da tarefa concluída: \"))\n",
        "            if 1 <= numero_tarefa <= len(tarefas):\n",
        "                tarefas.pop(numero_tarefa - 1)\n",
        "                print(\"Tarefa marcada como concluída.\")\n",
        "            else:\n",
        "                print(\"Número de tarefa inválido.\")\n",
        "        else:\n",
        "            print(\"Não há tarefas para marcar como concluída.\")\n",
        "    elif opcao == \"4\":\n",
        "        if tarefas:\n",
        "            numero_tarefa = int(input(\"Digite o número da tarefa a ser removida: \"))\n",
        "            if 1 <= numero_tarefa <= len(tarefas):\n",
        "                tarefas.pop(numero_tarefa - 1)\n",
        "                print(\"Tarefa removida com sucesso.\")\n",
        "            else:\n",
        "                print(\"Número de tarefa inválido.\")\n",
        "        else:\n",
        "            print(\"Não há tarefas para remover.\")\n",
        "    elif opcao == \"5\":\n",
        "        print(\"Programa encerrado.\")\n",
        "        break\n",
        "    else:\n",
        "        print(\"Opção inválida. Por favor, escolha uma opção válida.\")\n"
      ],
      "metadata": {
        "id": "8oExqSgagGzn",
        "colab": {
          "base_uri": "https://localhost:8080/"
        },
        "outputId": "a0a57ab9-2d5c-44bd-b383-1b3839601686"
      },
      "execution_count": null,
      "outputs": [
        {
          "output_type": "stream",
          "name": "stdout",
          "text": [
            "\n",
            "Gerenciador de Tarefas\n",
            "1. Adicionar Tarefa\n",
            "2. Visualizar Tarefas\n",
            "3. Marcar Tarefa Concluída\n",
            "4. Remover Tarefa\n",
            "5. Sair\n",
            "Escolha uma opção: 1\n",
            "Digite a nova tarefa: Teste\n",
            "Tarefa adicionada com sucesso.\n",
            "\n",
            "Gerenciador de Tarefas\n",
            "1. Adicionar Tarefa\n",
            "2. Visualizar Tarefas\n",
            "3. Marcar Tarefa Concluída\n",
            "4. Remover Tarefa\n",
            "5. Sair\n",
            "Escolha uma opção: 2\n",
            "Tarefas:\n",
            "1. Teste\n",
            "\n",
            "Gerenciador de Tarefas\n",
            "1. Adicionar Tarefa\n",
            "2. Visualizar Tarefas\n",
            "3. Marcar Tarefa Concluída\n",
            "4. Remover Tarefa\n",
            "5. Sair\n",
            "Escolha uma opção: 4\n",
            "Digite o número da tarefa a ser removida: 1\n",
            "Tarefa removida com sucesso.\n",
            "\n",
            "Gerenciador de Tarefas\n",
            "1. Adicionar Tarefa\n",
            "2. Visualizar Tarefas\n",
            "3. Marcar Tarefa Concluída\n",
            "4. Remover Tarefa\n",
            "5. Sair\n",
            "Escolha uma opção: 2\n",
            "Não há tarefas para exibir.\n",
            "\n",
            "Gerenciador de Tarefas\n",
            "1. Adicionar Tarefa\n",
            "2. Visualizar Tarefas\n",
            "3. Marcar Tarefa Concluída\n",
            "4. Remover Tarefa\n",
            "5. Sair\n"
          ]
        }
      ]
    }
  ]
}